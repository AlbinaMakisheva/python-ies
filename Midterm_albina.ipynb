{
 "cells": [
  {
   "cell_type": "code",
   "execution_count": 1,
   "id": "58b827d7-0410-447b-abf4-8bc80ee88360",
   "metadata": {},
   "outputs": [
    {
     "name": "stdout",
     "output_type": "stream",
     "text": [
      "Requirement already satisfied: pandas in /opt/anaconda3/lib/python3.12/site-packages (2.2.3)\n",
      "Requirement already satisfied: numpy>=1.26.0 in /opt/anaconda3/lib/python3.12/site-packages (from pandas) (1.26.4)\n",
      "Requirement already satisfied: python-dateutil>=2.8.2 in /opt/anaconda3/lib/python3.12/site-packages (from pandas) (2.9.0.post0)\n",
      "Requirement already satisfied: pytz>=2020.1 in /opt/anaconda3/lib/python3.12/site-packages (from pandas) (2024.1)\n",
      "Requirement already satisfied: tzdata>=2022.7 in /opt/anaconda3/lib/python3.12/site-packages (from pandas) (2023.3)\n",
      "Requirement already satisfied: six>=1.5 in /opt/anaconda3/lib/python3.12/site-packages (from python-dateutil>=2.8.2->pandas) (1.16.0)\n"
     ]
    }
   ],
   "source": [
    "!pip install pandas"
   ]
  },
  {
   "cell_type": "code",
   "execution_count": 57,
   "id": "613f1c04-3f01-4682-b777-e5f9fcad2ebd",
   "metadata": {},
   "outputs": [],
   "source": [
    "import pandas as pd\n",
    "import numpy as np\n",
    "import matplotlib.pyplot as plt\n",
    "import os"
   ]
  },
  {
   "cell_type": "code",
   "execution_count": 34,
   "id": "801b6664-df6b-4b03-b608-54078412c225",
   "metadata": {},
   "outputs": [],
   "source": [
    "url= \"https://ies-fsv.s3.eu-central-1.amazonaws.com/companies/companies_no_subindustry.csv\"\n",
    "df= pd.read_csv(url)"
   ]
  },
  {
   "cell_type": "code",
   "execution_count": 32,
   "id": "e4c0405f-8606-43ab-95bd-4e7832b791ac",
   "metadata": {},
   "outputs": [
    {
     "name": "stdout",
     "output_type": "stream",
     "text": [
      "    Symbol              Security             GICS_Sector  \\\n",
      "0      MMM                    3M             Industrials   \n",
      "1      AOS           A. O. Smith             Industrials   \n",
      "2      ABT                Abbott             Health Care   \n",
      "3     ABBV                AbbVie             Health Care   \n",
      "4     ABMD               Abiomed             Health Care   \n",
      "..     ...                   ...                     ...   \n",
      "498    YUM           Yum! Brands  Consumer Discretionary   \n",
      "499   ZBRA    Zebra Technologies  Information Technology   \n",
      "500    ZBH         Zimmer Biomet             Health Care   \n",
      "501   ZION  Zions Bancorporation              Financials   \n",
      "502    ZTS                Zoetis             Health Care   \n",
      "\n",
      "                          hq    included      Founded  \n",
      "0      Saint Paul, Minnesota  09.08.1976         1902  \n",
      "1       Milwaukee, Wisconsin  26.07.2017         1916  \n",
      "2    North Chicago, Illinois  31.03.1964         1888  \n",
      "3    North Chicago, Illinois  31.12.2012  2013 (1888)  \n",
      "4     Danvers, Massachusetts  31.05.2018         1981  \n",
      "..                       ...         ...          ...  \n",
      "498     Louisville, Kentucky  06.10.1997         1997  \n",
      "499   Lincolnshire, Illinois  23.12.2019         1969  \n",
      "500          Warsaw, Indiana  07.08.2001         1927  \n",
      "501     Salt Lake City, Utah  22.06.2001         1873  \n",
      "502   Parsippany, New Jersey  21.06.2013         1952  \n",
      "\n",
      "[503 rows x 6 columns]\n"
     ]
    }
   ],
   "source": [
    "print(df)"
   ]
  },
  {
   "cell_type": "code",
   "execution_count": 37,
   "id": "66a592e5-9972-4070-aa3c-dc5a0f803ef2",
   "metadata": {},
   "outputs": [
    {
     "name": "stdout",
     "output_type": "stream",
     "text": [
      "    Symbol              Security             GICS_Sector  \\\n",
      "0      MMM                    3M             Industrials   \n",
      "1      AOS           A. O. Smith             Industrials   \n",
      "2      ABT                Abbott             Health Care   \n",
      "3     ABBV                AbbVie             Health Care   \n",
      "4     ABMD               Abiomed             Health Care   \n",
      "..     ...                   ...                     ...   \n",
      "498    YUM           Yum! Brands  Consumer Discretionary   \n",
      "499   ZBRA    Zebra Technologies  Information Technology   \n",
      "500    ZBH         Zimmer Biomet             Health Care   \n",
      "501   ZION  Zions Bancorporation              Financials   \n",
      "502    ZTS                Zoetis             Health Care   \n",
      "\n",
      "                          hq   included      Founded  \n",
      "0      Saint Paul, Minnesota 1976-08-09         1902  \n",
      "1       Milwaukee, Wisconsin 2017-07-26         1916  \n",
      "2    North Chicago, Illinois 1964-03-31         1888  \n",
      "3    North Chicago, Illinois 2012-12-31  2013 (1888)  \n",
      "4     Danvers, Massachusetts 2018-05-31         1981  \n",
      "..                       ...        ...          ...  \n",
      "498     Louisville, Kentucky 1997-10-06         1997  \n",
      "499   Lincolnshire, Illinois 2019-12-23         1969  \n",
      "500          Warsaw, Indiana 2001-08-07         1927  \n",
      "501     Salt Lake City, Utah 2001-06-22         1873  \n",
      "502   Parsippany, New Jersey 2013-06-21         1952  \n",
      "\n",
      "[503 rows x 6 columns]\n",
      "48\n"
     ]
    }
   ],
   "source": [
    "# question 1\n",
    "df['included']= pd.to_datetime(df['included'], dayfirst=True, errors='coerce') \n",
    "missing_dates = df['included'].isna().sum()\n",
    "print(df)\n",
    "print(missing_dates)"
   ]
  },
  {
   "cell_type": "code",
   "execution_count": 42,
   "id": "6dbad7b5-c2d0-499f-8286-6b94f15a94b3",
   "metadata": {},
   "outputs": [
    {
     "name": "stdout",
     "output_type": "stream",
     "text": [
      "Symbol                          MO\n",
      "Security                    Altria\n",
      "GICS_Sector       Consumer Staples\n",
      "hq              Richmond, Virginia\n",
      "included       1957-03-04 00:00:00\n",
      "Founded                       1985\n",
      "age                      67.770021\n",
      "Name: 25, dtype: object\n",
      "Symbol                        ACGL\n",
      "Security        Arch Capital Group\n",
      "GICS_Sector             Financials\n",
      "hq               Hamilton, Bermuda\n",
      "included       2022-11-01 00:00:00\n",
      "Founded                       1995\n",
      "age                       2.108145\n",
      "Name: 48, dtype: object\n",
      "23.506368511707326\n"
     ]
    }
   ],
   "source": [
    "#second question\n",
    "df = df.dropna(subset=['included'])\n",
    "df['age'] = (pd.Timestamp.now() - df['included']).dt.days / 365.25\n",
    "oldest =  df.loc[df['age'].idxmax()]\n",
    "youngest = df.loc[df['age'].idxmin()]\n",
    "avg = df['age'].mean()\n",
    "print(oldest)\n",
    "print(youngest)\n",
    "print(avg)"
   ]
  },
  {
   "cell_type": "code",
   "execution_count": 43,
   "id": "c6fa336d-0ff6-4cf3-b77d-8dd603448b8f",
   "metadata": {},
   "outputs": [
    {
     "name": "stdout",
     "output_type": "stream",
     "text": [
      "GICS_Sector\n",
      "Information Technology    68\n",
      "Industrials               66\n",
      "Health Care               60\n",
      "Financials                55\n",
      "Consumer Discretionary    52\n",
      "Consumer Staples          33\n",
      "Real Estate               29\n",
      "Materials                 26\n",
      "Communication Services    22\n",
      "Utilities                 22\n",
      "Energy                    22\n",
      "Name: count, dtype: int64\n"
     ]
    },
    {
     "data": {
      "image/png": "[encoded data removed]",
      "text/plain": [
       "<Figure size 640x480 with 1 Axes>"
      ]
     },
     "metadata": {},
     "output_type": "display_data"
    }
   ],
   "source": [
    "#third question\n",
    "dist_sectors= df[\"GICS_Sector\"].value_counts()\n",
    "plt.pie(dist_sectors, labels=dist_sectors.index)\n",
    "print(dist_sectors)\n"
   ]
  },
  {
   "cell_type": "code",
   "execution_count": 49,
   "id": "f2487264-dbea-45c8-91dc-5cda37a8e7c6",
   "metadata": {},
   "outputs": [
    {
     "ename": "KeyError",
     "evalue": "-1",
     "output_type": "error",
     "traceback": [
      "\u001b[0;31m---------------------------------------------------------------------------\u001b[0m",
      "\u001b[0;31mKeyError\u001b[0m                                  Traceback (most recent call last)",
      "File \u001b[0;32m/opt/anaconda3/lib/python3.12/site-packages/pandas/core/indexes/base.py:3805\u001b[0m, in \u001b[0;36mIndex.get_loc\u001b[0;34m(self, key)\u001b[0m\n\u001b[1;32m   3804\u001b[0m \u001b[38;5;28;01mtry\u001b[39;00m:\n\u001b[0;32m-> 3805\u001b[0m     \u001b[38;5;28;01mreturn\u001b[39;00m \u001b[38;5;28mself\u001b[39m\u001b[38;5;241m.\u001b[39m_engine\u001b[38;5;241m.\u001b[39mget_loc(casted_key)\n\u001b[1;32m   3806\u001b[0m \u001b[38;5;28;01mexcept\u001b[39;00m \u001b[38;5;167;01mKeyError\u001b[39;00m \u001b[38;5;28;01mas\u001b[39;00m err:\n",
      "File \u001b[0;32mindex.pyx:167\u001b[0m, in \u001b[0;36mpandas._libs.index.IndexEngine.get_loc\u001b[0;34m()\u001b[0m\n",
      "File \u001b[0;32mindex.pyx:196\u001b[0m, in \u001b[0;36mpandas._libs.index.IndexEngine.get_loc\u001b[0;34m()\u001b[0m\n",
      "File \u001b[0;32mpandas/_libs/hashtable_class_helper.pxi:2606\u001b[0m, in \u001b[0;36mpandas._libs.hashtable.Int64HashTable.get_item\u001b[0;34m()\u001b[0m\n",
      "File \u001b[0;32mpandas/_libs/hashtable_class_helper.pxi:2630\u001b[0m, in \u001b[0;36mpandas._libs.hashtable.Int64HashTable.get_item\u001b[0;34m()\u001b[0m\n",
      "\u001b[0;31mKeyError\u001b[0m: -1",
      "\nThe above exception was the direct cause of the following exception:\n",
      "\u001b[0;31mKeyError\u001b[0m                                  Traceback (most recent call last)",
      "Cell \u001b[0;32mIn[49], line 5\u001b[0m\n\u001b[1;32m      1\u001b[0m \u001b[38;5;66;03m# question 4\u001b[39;00m\n\u001b[1;32m      2\u001b[0m \u001b[38;5;66;03m# df[\"hq_states\"] = df['hq'].str.split(\",\").pop()\u001b[39;00m\n\u001b[1;32m      3\u001b[0m \u001b[38;5;66;03m# print(df)\u001b[39;00m\n\u001b[1;32m      4\u001b[0m \u001b[38;5;66;03m# df[\"hq_states\"]= df['hq'].str.extract(r',\\s*([A-Z]{2})$')\u001b[39;00m\n\u001b[0;32m----> 5\u001b[0m df[\u001b[38;5;124m\"\u001b[39m\u001b[38;5;124mhq_states\u001b[39m\u001b[38;5;124m\"\u001b[39m]\u001b[38;5;241m=\u001b[39m df[\u001b[38;5;124m'\u001b[39m\u001b[38;5;124mhq\u001b[39m\u001b[38;5;124m'\u001b[39m]\u001b[38;5;241m.\u001b[39mstr\u001b[38;5;241m.\u001b[39msplit(\u001b[38;5;124m\"\u001b[39m\u001b[38;5;124m,\u001b[39m\u001b[38;5;124m\"\u001b[39m)[\u001b[38;5;241m-\u001b[39m\u001b[38;5;241m1\u001b[39m]\n\u001b[1;32m      6\u001b[0m \u001b[38;5;28mprint\u001b[39m(df)\n",
      "File \u001b[0;32m/opt/anaconda3/lib/python3.12/site-packages/pandas/core/series.py:1121\u001b[0m, in \u001b[0;36mSeries.__getitem__\u001b[0;34m(self, key)\u001b[0m\n\u001b[1;32m   1118\u001b[0m     \u001b[38;5;28;01mreturn\u001b[39;00m \u001b[38;5;28mself\u001b[39m\u001b[38;5;241m.\u001b[39m_values[key]\n\u001b[1;32m   1120\u001b[0m \u001b[38;5;28;01melif\u001b[39;00m key_is_scalar:\n\u001b[0;32m-> 1121\u001b[0m     \u001b[38;5;28;01mreturn\u001b[39;00m \u001b[38;5;28mself\u001b[39m\u001b[38;5;241m.\u001b[39m_get_value(key)\n\u001b[1;32m   1123\u001b[0m \u001b[38;5;66;03m# Convert generator to list before going through hashable part\u001b[39;00m\n\u001b[1;32m   1124\u001b[0m \u001b[38;5;66;03m# (We will iterate through the generator there to check for slices)\u001b[39;00m\n\u001b[1;32m   1125\u001b[0m \u001b[38;5;28;01mif\u001b[39;00m is_iterator(key):\n",
      "File \u001b[0;32m/opt/anaconda3/lib/python3.12/site-packages/pandas/core/series.py:1237\u001b[0m, in \u001b[0;36mSeries._get_value\u001b[0;34m(self, label, takeable)\u001b[0m\n\u001b[1;32m   1234\u001b[0m     \u001b[38;5;28;01mreturn\u001b[39;00m \u001b[38;5;28mself\u001b[39m\u001b[38;5;241m.\u001b[39m_values[label]\n\u001b[1;32m   1236\u001b[0m \u001b[38;5;66;03m# Similar to Index.get_value, but we do not fall back to positional\u001b[39;00m\n\u001b[0;32m-> 1237\u001b[0m loc \u001b[38;5;241m=\u001b[39m \u001b[38;5;28mself\u001b[39m\u001b[38;5;241m.\u001b[39mindex\u001b[38;5;241m.\u001b[39mget_loc(label)\n\u001b[1;32m   1239\u001b[0m \u001b[38;5;28;01mif\u001b[39;00m is_integer(loc):\n\u001b[1;32m   1240\u001b[0m     \u001b[38;5;28;01mreturn\u001b[39;00m \u001b[38;5;28mself\u001b[39m\u001b[38;5;241m.\u001b[39m_values[loc]\n",
      "File \u001b[0;32m/opt/anaconda3/lib/python3.12/site-packages/pandas/core/indexes/base.py:3812\u001b[0m, in \u001b[0;36mIndex.get_loc\u001b[0;34m(self, key)\u001b[0m\n\u001b[1;32m   3807\u001b[0m     \u001b[38;5;28;01mif\u001b[39;00m \u001b[38;5;28misinstance\u001b[39m(casted_key, \u001b[38;5;28mslice\u001b[39m) \u001b[38;5;129;01mor\u001b[39;00m (\n\u001b[1;32m   3808\u001b[0m         \u001b[38;5;28misinstance\u001b[39m(casted_key, abc\u001b[38;5;241m.\u001b[39mIterable)\n\u001b[1;32m   3809\u001b[0m         \u001b[38;5;129;01mand\u001b[39;00m \u001b[38;5;28many\u001b[39m(\u001b[38;5;28misinstance\u001b[39m(x, \u001b[38;5;28mslice\u001b[39m) \u001b[38;5;28;01mfor\u001b[39;00m x \u001b[38;5;129;01min\u001b[39;00m casted_key)\n\u001b[1;32m   3810\u001b[0m     ):\n\u001b[1;32m   3811\u001b[0m         \u001b[38;5;28;01mraise\u001b[39;00m InvalidIndexError(key)\n\u001b[0;32m-> 3812\u001b[0m     \u001b[38;5;28;01mraise\u001b[39;00m \u001b[38;5;167;01mKeyError\u001b[39;00m(key) \u001b[38;5;28;01mfrom\u001b[39;00m \u001b[38;5;21;01merr\u001b[39;00m\n\u001b[1;32m   3813\u001b[0m \u001b[38;5;28;01mexcept\u001b[39;00m \u001b[38;5;167;01mTypeError\u001b[39;00m:\n\u001b[1;32m   3814\u001b[0m     \u001b[38;5;66;03m# If we have a listlike key, _check_indexing_error will raise\u001b[39;00m\n\u001b[1;32m   3815\u001b[0m     \u001b[38;5;66;03m#  InvalidIndexError. Otherwise we fall through and re-raise\u001b[39;00m\n\u001b[1;32m   3816\u001b[0m     \u001b[38;5;66;03m#  the TypeError.\u001b[39;00m\n\u001b[1;32m   3817\u001b[0m     \u001b[38;5;28mself\u001b[39m\u001b[38;5;241m.\u001b[39m_check_indexing_error(key)\n",
      "\u001b[0;31mKeyError\u001b[0m: -1"
     ]
    }
   ],
   "source": [
    "# question 4\n",
    "# df[\"hq_states\"] = df['hq'].str.split(\",\").pop()\n",
    "# print(df)\n",
    "# df[\"hq_states\"]= df['hq'].str.extract(r',\\s*([A-Z]{2})$')\n",
    "df[\"hq_states\"]= df['hq'].str.split(\",\")[-1]\n",
    "# 65407278\n",
    "print(df)\n",
    "states_count=states.value_counts()\n",
    "print(states )"
   ]
  },
  {
   "cell_type": "code",
   "execution_count": 54,
   "id": "878d9cbc-4679-4503-9d7d-a84df9073973",
   "metadata": {},
   "outputs": [
    {
     "name": "stdout",
     "output_type": "stream",
     "text": [
      "subindustry\n",
      "Health Care Equipment     18\n",
      "Industrial Machinery      14\n",
      "Application Software      13\n",
      "Packaged Foods & Meats    12\n",
      "Semiconductors            11\n",
      "                          ..\n",
      "Consumer Electronics       1\n",
      "Leisure Products           1\n",
      "Advertising                1\n",
      "Food Retail                1\n",
      "Broadcasting               1\n",
      "Name: count, Length: 120, dtype: int64\n"
     ]
    }
   ],
   "source": [
    "# question 5\n",
    "url2= \"https://ies-fsv.s3.eu-central-1.amazonaws.com/companies/companies_subindustry.csv\"\n",
    "df2= pd.read_csv(url2)\n",
    "merged = pd.merge(df, df2, on='Symbol',how=\"inner\")\n",
    "subindustry_dist= merged['subindustry'].value_counts()\n",
    "print(subindustry_dist)"
   ]
  },
  {
   "cell_type": "code",
   "execution_count": 78,
   "id": "855c99f7-868a-4825-bf66-cec4a7c12e45",
   "metadata": {},
   "outputs": [
    {
     "name": "stdout",
     "output_type": "stream",
     "text": [
      "{'DPZ':             Date     Open     High      Low    Close  Volume  Dividends  \\\n",
      "0     2017-01-03  146.870  147.046  144.140  146.077  797600        0.0   \n",
      "1     2017-01-04  146.123  150.662  145.791  150.348  679400        0.0   \n",
      "2     2017-01-05  150.311  151.280  149.066  150.145  482100        0.0   \n",
      "3     2017-01-06  150.468  151.649  149.601  150.809  548500        0.0   \n",
      "4     2017-01-09  150.662  152.506  150.440  151.750  478600        0.0   \n",
      "...          ...      ...      ...      ...      ...     ...        ...   \n",
      "1505  2022-12-23  343.012  345.931  338.765  344.642  325500        0.0   \n",
      "1506  2022-12-27  343.695  346.516  339.234  345.989  303000        0.0   \n",
      "1507  2022-12-28  345.911  347.297  336.207  336.236  306900        0.0   \n",
      "1508  2022-12-29  338.179  344.828  336.832  341.499  273800        0.0   \n",
      "1509  2022-12-30  338.609  338.609  333.444  338.179  288100        0.0   \n",
      "\n",
      "      Stock Splits  \n",
      "0              0.0  \n",
      "1              0.0  \n",
      "2              0.0  \n",
      "3              0.0  \n",
      "4              0.0  \n",
      "...            ...  \n",
      "1505           0.0  \n",
      "1506           0.0  \n",
      "1507           0.0  \n",
      "1508           0.0  \n",
      "1509           0.0  \n",
      "\n",
      "[1510 rows x 8 columns], 'MOS':             Date    Open    High     Low   Close    Volume  Dividends  \\\n",
      "0     2017-01-03  26.465  26.840  26.135  26.358   3358900        0.0   \n",
      "1     2017-01-04  26.510  27.581  26.501  27.500  12151800        0.0   \n",
      "2     2017-01-05  27.581  27.706  27.188  27.554   4712700        0.0   \n",
      "3     2017-01-06  27.536  27.590  27.277  27.491   2707600        0.0   \n",
      "4     2017-01-09  27.554  27.777  27.179  27.411   3086100        0.0   \n",
      "...          ...     ...     ...     ...     ...       ...        ...   \n",
      "1505  2022-12-23  43.016  43.331  42.711  43.045   1818200        0.0   \n",
      "1506  2022-12-27  43.436  43.484  42.377  42.530   2085100        0.0   \n",
      "1507  2022-12-28  42.635  42.635  41.309  41.424   3678800        0.0   \n",
      "1508  2022-12-29  41.433  41.863  41.176  41.395   4581300        0.0   \n",
      "1509  2022-12-30  41.205  41.853  41.119  41.834   3684000        0.0   \n",
      "\n",
      "      Stock Splits  \n",
      "0              0.0  \n",
      "1              0.0  \n",
      "2              0.0  \n",
      "3              0.0  \n",
      "4              0.0  \n",
      "...            ...  \n",
      "1505           0.0  \n",
      "1506           0.0  \n",
      "1507           0.0  \n",
      "1508           0.0  \n",
      "1509           0.0  \n",
      "\n",
      "[1510 rows x 8 columns], 'UPS':             Date     Open     High      Low    Close   Volume  Dividends  \\\n",
      "0     2017-01-03   88.218   88.638   87.546   87.882  2390700        0.0   \n",
      "1     2017-01-04   88.050   88.470   87.790   87.905  1830800        0.0   \n",
      "2     2017-01-05   87.821   88.569   87.706   87.951  1856200        0.0   \n",
      "3     2017-01-06   87.821   88.325   87.454   88.126  1767000        0.0   \n",
      "4     2017-01-09   87.821   87.966   87.439   87.645  1965200        0.0   \n",
      "...          ...      ...      ...      ...      ...      ...        ...   \n",
      "1505  2022-12-23  161.407  162.572  159.792  162.407  1897600        0.0   \n",
      "1506  2022-12-27  162.480  163.150  161.131  162.333  1294200        0.0   \n",
      "1507  2022-12-28  162.398  162.829  159.067  159.287  1455900        0.0   \n",
      "1508  2022-12-29  160.370  161.856  160.030  161.251  1369200        0.0   \n",
      "1509  2022-12-30  159.884  160.425  157.709  159.498  1670900        0.0   \n",
      "\n",
      "      Stock Splits  \n",
      "0              0.0  \n",
      "1              0.0  \n",
      "2              0.0  \n",
      "3              0.0  \n",
      "4              0.0  \n",
      "...            ...  \n",
      "1505           0.0  \n",
      "1506           0.0  \n",
      "1507           0.0  \n",
      "1508           0.0  \n",
      "1509           0.0  \n",
      "\n",
      "[1510 rows x 8 columns], 'SEDG':             Date    Open     High      Low   Close   Volume  Dividends  \\\n",
      "0     2017-01-03   12.55   13.200   12.550   13.20  1123600        0.0   \n",
      "1     2017-01-04   13.30   14.450   13.300   14.40  1363300        0.0   \n",
      "2     2017-01-05   14.30   14.575   13.775   13.80   647700        0.0   \n",
      "3     2017-01-06   13.90   14.000   13.600   13.75   537300        0.0   \n",
      "4     2017-01-09   13.70   13.700   13.150   13.50   733400        0.0   \n",
      "...          ...     ...      ...      ...     ...      ...        ...   \n",
      "1505  2022-12-23  312.31  312.310  304.240  310.15   413700        0.0   \n",
      "1506  2022-12-27  307.32  307.520  291.201  293.04   724300        0.0   \n",
      "1507  2022-12-28  291.19  291.190  271.100  275.84  1471500        0.0   \n",
      "1508  2022-12-29  281.37  289.970  278.120  280.66   718400        0.0   \n",
      "1509  2022-12-30  276.16  283.590  273.670  283.27   485700        0.0   \n",
      "\n",
      "      Stock Splits  \n",
      "0              0.0  \n",
      "1              0.0  \n",
      "2              0.0  \n",
      "3              0.0  \n",
      "4              0.0  \n",
      "...            ...  \n",
      "1505           0.0  \n",
      "1506           0.0  \n",
      "1507           0.0  \n",
      "1508           0.0  \n",
      "1509           0.0  \n",
      "\n",
      "[1510 rows x 8 columns], 'WMT':             Date    Open    High     Low   Close    Volume  Dividends  \\\n",
      "0     2017-01-03  20.029  20.029  19.684  19.861  31419600        0.0   \n",
      "1     2017-01-04  19.861  20.142  19.844  19.977  23754000        0.0   \n",
      "2     2017-01-05  19.794  20.055  19.705  20.020  21297600        0.0   \n",
      "3     2017-01-06  19.789  19.815  19.673  19.745  28473300        0.0   \n",
      "4     2017-01-09  19.765  19.901  19.763  19.875  26055600        0.0   \n",
      "...          ...     ...     ...     ...     ...       ...        ...   \n",
      "1505  2022-12-23  46.513  46.757  46.263  46.748   9547500        0.0   \n",
      "1506  2022-12-27  46.835  46.969  46.559  46.761  10044600        0.0   \n",
      "1507  2022-12-28  46.650  46.715  45.818  45.941  15246300        0.0   \n",
      "1508  2022-12-29  46.218  46.504  46.091  46.221   9171900        0.0   \n",
      "1509  2022-12-30  46.029  46.169  45.785  46.104  11505900        0.0   \n",
      "\n",
      "      Stock Splits  \n",
      "0              0.0  \n",
      "1              0.0  \n",
      "2              0.0  \n",
      "3              0.0  \n",
      "4              0.0  \n",
      "...            ...  \n",
      "1505           0.0  \n",
      "1506           0.0  \n",
      "1507           0.0  \n",
      "1508           0.0  \n",
      "1509           0.0  \n",
      "\n",
      "[1510 rows x 8 columns]}\n"
     ]
    }
   ],
   "source": [
    "os.getcwd()\n",
    "path= '/Users/albina.makisheva/Downloads/data'\n",
    "data = {}\n",
    "for file in os.listdir(path):\n",
    "    if file.endswith('.csv'):\n",
    "        ticker = file.replace('.csv', '')   \n",
    "        data[ticker] = pd.read_csv(os.path.join(path, file))\n",
    "\n",
    "print(data)"
   ]
  },
  {
   "cell_type": "code",
   "execution_count": 85,
   "id": "51d8d8cf-643a-4b8a-b15a-ecb4012bd270",
   "metadata": {},
   "outputs": [
    {
     "name": "stdout",
     "output_type": "stream",
     "text": [
      "[]\n"
     ]
    }
   ],
   "source": [
    "# question 1\n",
    "no_diff = []\n",
    "for i, df in data.items():\n",
    "    if (df['High'] == df['Low']).all():\n",
    "        no_diff.append(i)\n",
    "print(no_diff)"
   ]
  },
  {
   "cell_type": "code",
   "execution_count": 80,
   "id": "fb0fb4e0-6d5f-4330-b94c-bf385ae2d91a",
   "metadata": {},
   "outputs": [
    {
     "name": "stdout",
     "output_type": "stream",
     "text": [
      "           min       max      mean    median\n",
      "DPZ  -0.106259  0.227939  0.000556  0.000881\n",
      "MOS  -0.321760  0.159255  0.000306  0.000700\n",
      "UPS  -0.092277  0.134320  0.000395  0.000440\n",
      "SEDG -0.260271  0.224078  0.002032  0.000920\n",
      "WMT  -0.120769  0.110717  0.000558  0.000652\n"
     ]
    }
   ],
   "source": [
    "# question 3\n",
    "log_returns = {}\n",
    "for ticker, df in data.items():\n",
    "    df['log_of_return'] = np.log(df['Close'] / df['Close'].shift(1))\n",
    "    log_returns[ticker] = {\n",
    "        \"min\": df['log_of_return'].min(),\n",
    "        \"max\": df['log_of_return'].max(),\n",
    "        \"mean\": df['log_of_return'].mean(),\n",
    "        \"median\": df['log_of_return'].median()\n",
    "    }\n",
    "returns_dataframe = pd.DataFrame(log_returns).T\n",
    "print(returns_dataframe)\n"
   ]
  },
  {
   "cell_type": "code",
   "execution_count": 84,
   "id": "5d60c621-fd99-42a7-834e-053647373d05",
   "metadata": {},
   "outputs": [
    {
     "ename": "KeyError",
     "evalue": "'Date'",
     "output_type": "error",
     "traceback": [
      "\u001b[0;31m---------------------------------------------------------------------------\u001b[0m",
      "\u001b[0;31mKeyError\u001b[0m                                  Traceback (most recent call last)",
      "File \u001b[0;32m/opt/anaconda3/lib/python3.12/site-packages/pandas/core/indexes/base.py:3805\u001b[0m, in \u001b[0;36mIndex.get_loc\u001b[0;34m(self, key)\u001b[0m\n\u001b[1;32m   3804\u001b[0m \u001b[38;5;28;01mtry\u001b[39;00m:\n\u001b[0;32m-> 3805\u001b[0m     \u001b[38;5;28;01mreturn\u001b[39;00m \u001b[38;5;28mself\u001b[39m\u001b[38;5;241m.\u001b[39m_engine\u001b[38;5;241m.\u001b[39mget_loc(casted_key)\n\u001b[1;32m   3806\u001b[0m \u001b[38;5;28;01mexcept\u001b[39;00m \u001b[38;5;167;01mKeyError\u001b[39;00m \u001b[38;5;28;01mas\u001b[39;00m err:\n",
      "File \u001b[0;32mindex.pyx:167\u001b[0m, in \u001b[0;36mpandas._libs.index.IndexEngine.get_loc\u001b[0;34m()\u001b[0m\n",
      "File \u001b[0;32mindex.pyx:196\u001b[0m, in \u001b[0;36mpandas._libs.index.IndexEngine.get_loc\u001b[0;34m()\u001b[0m\n",
      "File \u001b[0;32mpandas/_libs/hashtable_class_helper.pxi:7081\u001b[0m, in \u001b[0;36mpandas._libs.hashtable.PyObjectHashTable.get_item\u001b[0;34m()\u001b[0m\n",
      "File \u001b[0;32mpandas/_libs/hashtable_class_helper.pxi:7089\u001b[0m, in \u001b[0;36mpandas._libs.hashtable.PyObjectHashTable.get_item\u001b[0;34m()\u001b[0m\n",
      "\u001b[0;31mKeyError\u001b[0m: 'Date'",
      "\nThe above exception was the direct cause of the following exception:\n",
      "\u001b[0;31mKeyError\u001b[0m                                  Traceback (most recent call last)",
      "Cell \u001b[0;32mIn[84], line 4\u001b[0m\n\u001b[1;32m      2\u001b[0m highest_gain_loss \u001b[38;5;241m=\u001b[39m {}\n\u001b[1;32m      3\u001b[0m \u001b[38;5;28;01mfor\u001b[39;00m ticker, df \u001b[38;5;129;01min\u001b[39;00m data\u001b[38;5;241m.\u001b[39mitems():\n\u001b[0;32m----> 4\u001b[0m     max_gain_date \u001b[38;5;241m=\u001b[39m df\u001b[38;5;241m.\u001b[39mloc[df[\u001b[38;5;124m'\u001b[39m\u001b[38;5;124mlog_of_return\u001b[39m\u001b[38;5;124m'\u001b[39m]\u001b[38;5;241m.\u001b[39midxmax(), \u001b[38;5;124m'\u001b[39m\u001b[38;5;124mDate\u001b[39m\u001b[38;5;124m'\u001b[39m]\n\u001b[1;32m      5\u001b[0m     max_loss_date \u001b[38;5;241m=\u001b[39m df\u001b[38;5;241m.\u001b[39mloc[df[\u001b[38;5;124m'\u001b[39m\u001b[38;5;124mlog_of_return\u001b[39m\u001b[38;5;124m'\u001b[39m]\u001b[38;5;241m.\u001b[39midxmin(), \u001b[38;5;124m'\u001b[39m\u001b[38;5;124mDate\u001b[39m\u001b[38;5;124m'\u001b[39m]\n\u001b[1;32m      6\u001b[0m     highest_gain_loss[ticker] \u001b[38;5;241m=\u001b[39m {\u001b[38;5;124m\"\u001b[39m\u001b[38;5;124mmax_gain_date\u001b[39m\u001b[38;5;124m\"\u001b[39m: max_gain_date, \u001b[38;5;124m\"\u001b[39m\u001b[38;5;124mmax_loss_date\u001b[39m\u001b[38;5;124m\"\u001b[39m: max_loss_date}\n",
      "File \u001b[0;32m/opt/anaconda3/lib/python3.12/site-packages/pandas/core/indexing.py:1183\u001b[0m, in \u001b[0;36m_LocationIndexer.__getitem__\u001b[0;34m(self, key)\u001b[0m\n\u001b[1;32m   1181\u001b[0m     key \u001b[38;5;241m=\u001b[39m \u001b[38;5;28mtuple\u001b[39m(com\u001b[38;5;241m.\u001b[39mapply_if_callable(x, \u001b[38;5;28mself\u001b[39m\u001b[38;5;241m.\u001b[39mobj) \u001b[38;5;28;01mfor\u001b[39;00m x \u001b[38;5;129;01min\u001b[39;00m key)\n\u001b[1;32m   1182\u001b[0m     \u001b[38;5;28;01mif\u001b[39;00m \u001b[38;5;28mself\u001b[39m\u001b[38;5;241m.\u001b[39m_is_scalar_access(key):\n\u001b[0;32m-> 1183\u001b[0m         \u001b[38;5;28;01mreturn\u001b[39;00m \u001b[38;5;28mself\u001b[39m\u001b[38;5;241m.\u001b[39mobj\u001b[38;5;241m.\u001b[39m_get_value(\u001b[38;5;241m*\u001b[39mkey, takeable\u001b[38;5;241m=\u001b[39m\u001b[38;5;28mself\u001b[39m\u001b[38;5;241m.\u001b[39m_takeable)\n\u001b[1;32m   1184\u001b[0m     \u001b[38;5;28;01mreturn\u001b[39;00m \u001b[38;5;28mself\u001b[39m\u001b[38;5;241m.\u001b[39m_getitem_tuple(key)\n\u001b[1;32m   1185\u001b[0m \u001b[38;5;28;01melse\u001b[39;00m:\n\u001b[1;32m   1186\u001b[0m     \u001b[38;5;66;03m# we by definition only have the 0th axis\u001b[39;00m\n",
      "File \u001b[0;32m/opt/anaconda3/lib/python3.12/site-packages/pandas/core/frame.py:4214\u001b[0m, in \u001b[0;36mDataFrame._get_value\u001b[0;34m(self, index, col, takeable)\u001b[0m\n\u001b[1;32m   4211\u001b[0m     series \u001b[38;5;241m=\u001b[39m \u001b[38;5;28mself\u001b[39m\u001b[38;5;241m.\u001b[39m_ixs(col, axis\u001b[38;5;241m=\u001b[39m\u001b[38;5;241m1\u001b[39m)\n\u001b[1;32m   4212\u001b[0m     \u001b[38;5;28;01mreturn\u001b[39;00m series\u001b[38;5;241m.\u001b[39m_values[index]\n\u001b[0;32m-> 4214\u001b[0m series \u001b[38;5;241m=\u001b[39m \u001b[38;5;28mself\u001b[39m\u001b[38;5;241m.\u001b[39m_get_item_cache(col)\n\u001b[1;32m   4215\u001b[0m engine \u001b[38;5;241m=\u001b[39m \u001b[38;5;28mself\u001b[39m\u001b[38;5;241m.\u001b[39mindex\u001b[38;5;241m.\u001b[39m_engine\n\u001b[1;32m   4217\u001b[0m \u001b[38;5;28;01mif\u001b[39;00m \u001b[38;5;129;01mnot\u001b[39;00m \u001b[38;5;28misinstance\u001b[39m(\u001b[38;5;28mself\u001b[39m\u001b[38;5;241m.\u001b[39mindex, MultiIndex):\n\u001b[1;32m   4218\u001b[0m     \u001b[38;5;66;03m# CategoricalIndex: Trying to use the engine fastpath may give incorrect\u001b[39;00m\n\u001b[1;32m   4219\u001b[0m     \u001b[38;5;66;03m#  results if our categories are integers that dont match our codes\u001b[39;00m\n\u001b[1;32m   4220\u001b[0m     \u001b[38;5;66;03m# IntervalIndex: IntervalTree has no get_loc\u001b[39;00m\n",
      "File \u001b[0;32m/opt/anaconda3/lib/python3.12/site-packages/pandas/core/frame.py:4638\u001b[0m, in \u001b[0;36mDataFrame._get_item_cache\u001b[0;34m(self, item)\u001b[0m\n\u001b[1;32m   4633\u001b[0m res \u001b[38;5;241m=\u001b[39m cache\u001b[38;5;241m.\u001b[39mget(item)\n\u001b[1;32m   4634\u001b[0m \u001b[38;5;28;01mif\u001b[39;00m res \u001b[38;5;129;01mis\u001b[39;00m \u001b[38;5;28;01mNone\u001b[39;00m:\n\u001b[1;32m   4635\u001b[0m     \u001b[38;5;66;03m# All places that call _get_item_cache have unique columns,\u001b[39;00m\n\u001b[1;32m   4636\u001b[0m     \u001b[38;5;66;03m#  pending resolution of GH#33047\u001b[39;00m\n\u001b[0;32m-> 4638\u001b[0m     loc \u001b[38;5;241m=\u001b[39m \u001b[38;5;28mself\u001b[39m\u001b[38;5;241m.\u001b[39mcolumns\u001b[38;5;241m.\u001b[39mget_loc(item)\n\u001b[1;32m   4639\u001b[0m     res \u001b[38;5;241m=\u001b[39m \u001b[38;5;28mself\u001b[39m\u001b[38;5;241m.\u001b[39m_ixs(loc, axis\u001b[38;5;241m=\u001b[39m\u001b[38;5;241m1\u001b[39m)\n\u001b[1;32m   4641\u001b[0m     cache[item] \u001b[38;5;241m=\u001b[39m res\n",
      "File \u001b[0;32m/opt/anaconda3/lib/python3.12/site-packages/pandas/core/indexes/base.py:3812\u001b[0m, in \u001b[0;36mIndex.get_loc\u001b[0;34m(self, key)\u001b[0m\n\u001b[1;32m   3807\u001b[0m     \u001b[38;5;28;01mif\u001b[39;00m \u001b[38;5;28misinstance\u001b[39m(casted_key, \u001b[38;5;28mslice\u001b[39m) \u001b[38;5;129;01mor\u001b[39;00m (\n\u001b[1;32m   3808\u001b[0m         \u001b[38;5;28misinstance\u001b[39m(casted_key, abc\u001b[38;5;241m.\u001b[39mIterable)\n\u001b[1;32m   3809\u001b[0m         \u001b[38;5;129;01mand\u001b[39;00m \u001b[38;5;28many\u001b[39m(\u001b[38;5;28misinstance\u001b[39m(x, \u001b[38;5;28mslice\u001b[39m) \u001b[38;5;28;01mfor\u001b[39;00m x \u001b[38;5;129;01min\u001b[39;00m casted_key)\n\u001b[1;32m   3810\u001b[0m     ):\n\u001b[1;32m   3811\u001b[0m         \u001b[38;5;28;01mraise\u001b[39;00m InvalidIndexError(key)\n\u001b[0;32m-> 3812\u001b[0m     \u001b[38;5;28;01mraise\u001b[39;00m \u001b[38;5;167;01mKeyError\u001b[39;00m(key) \u001b[38;5;28;01mfrom\u001b[39;00m \u001b[38;5;21;01merr\u001b[39;00m\n\u001b[1;32m   3813\u001b[0m \u001b[38;5;28;01mexcept\u001b[39;00m \u001b[38;5;167;01mTypeError\u001b[39;00m:\n\u001b[1;32m   3814\u001b[0m     \u001b[38;5;66;03m# If we have a listlike key, _check_indexing_error will raise\u001b[39;00m\n\u001b[1;32m   3815\u001b[0m     \u001b[38;5;66;03m#  InvalidIndexError. Otherwise we fall through and re-raise\u001b[39;00m\n\u001b[1;32m   3816\u001b[0m     \u001b[38;5;66;03m#  the TypeError.\u001b[39;00m\n\u001b[1;32m   3817\u001b[0m     \u001b[38;5;28mself\u001b[39m\u001b[38;5;241m.\u001b[39m_check_indexing_error(key)\n",
      "\u001b[0;31mKeyError\u001b[0m: 'Date'"
     ]
    }
   ],
   "source": [
    "# question 4\n",
    "highest_gain_loss = {}\n",
    "for ticker, df in data.items():\n",
    "    max_gain_date = df.loc[df['log_of_return'].idxmax(), 'Date']\n",
    "    max_loss_date = df.loc[df['log_of_return'].idxmin(), 'Date']\n",
    "    highest_gain_loss[ticker] = {\"max_gain_date\": max_gain_date, \"max_loss_date\": max_loss_date}\n",
    "gain_loss_df = pd.DataFrame(highest_gain_loss).T\n",
    "print(gain_loss_df)"
   ]
  },
  {
   "cell_type": "code",
   "execution_count": 81,
   "id": "5b2b1214-6d69-4460-9c1a-fc72a5e99acc",
   "metadata": {},
   "outputs": [
    {
     "name": "stdout",
     "output_type": "stream",
     "text": [
      "{'DPZ': 732777.4600638978, 'MOS': 5062973.865814696, 'UPS': 3346773.1469648564, 'SEDG': 987423.7380191693, 'WMT': 24877349.376996804}\n"
     ]
    }
   ],
   "source": [
    "# question 5\n",
    "avg_week_volume = {}\n",
    "for ticker, df in data.items():\n",
    "    df['Date'] = pd.to_datetime(df['Date'])\n",
    "    df.set_index('Date', inplace=True)\n",
    "    weekly_volume = df['Volume'].resample('W').mean()\n",
    "    avg_week_volume[ticker] = weekly_volume.mean()\n",
    "print(avg_week_volume)"
   ]
  },
  {
   "cell_type": "code",
   "execution_count": 82,
   "id": "c4cdcc6d-04eb-405f-908c-1fd5b0354e8d",
   "metadata": {},
   "outputs": [
    {
     "name": "stdout",
     "output_type": "stream",
     "text": [
      "{'DPZ':                Open     High      Low    Close  Volume  Dividends  \\\n",
      "Date                                                                \n",
      "2017-01-03  146.870  147.046  144.140  146.077  797600        0.0   \n",
      "2017-01-04  146.123  150.662  145.791  150.348  679400        0.0   \n",
      "2017-01-05  150.311  151.280  149.066  150.145  482100        0.0   \n",
      "2017-01-06  150.468  151.649  149.601  150.809  548500        0.0   \n",
      "2017-01-09  150.662  152.506  150.440  151.750  478600        0.0   \n",
      "...             ...      ...      ...      ...     ...        ...   \n",
      "2022-12-23  343.012  345.931  338.765  344.642  325500        0.0   \n",
      "2022-12-27  343.695  346.516  339.234  345.989  303000        0.0   \n",
      "2022-12-28  345.911  347.297  336.207  336.236  306900        0.0   \n",
      "2022-12-29  338.179  344.828  336.832  341.499  273800        0.0   \n",
      "2022-12-30  338.609  338.609  333.444  338.179  288100        0.0   \n",
      "\n",
      "            Stock Splits  log_of_return Volume_Class  \n",
      "Date                                                  \n",
      "2017-01-03           0.0            NaN         High  \n",
      "2017-01-04           0.0       0.028819       Medium  \n",
      "2017-01-05           0.0      -0.001351          Low  \n",
      "2017-01-06           0.0       0.004413       Medium  \n",
      "2017-01-09           0.0       0.006220          Low  \n",
      "...                  ...            ...          ...  \n",
      "2022-12-23           0.0       0.002298          Low  \n",
      "2022-12-27           0.0       0.003901          Low  \n",
      "2022-12-28           0.0      -0.028594          Low  \n",
      "2022-12-29           0.0       0.015531          Low  \n",
      "2022-12-30           0.0      -0.009769          Low  \n",
      "\n",
      "[1510 rows x 9 columns], 'MOS':               Open    High     Low   Close    Volume  Dividends  Stock Splits  \\\n",
      "Date                                                                            \n",
      "2017-01-03  26.465  26.840  26.135  26.358   3358900        0.0           0.0   \n",
      "2017-01-04  26.510  27.581  26.501  27.500  12151800        0.0           0.0   \n",
      "2017-01-05  27.581  27.706  27.188  27.554   4712700        0.0           0.0   \n",
      "2017-01-06  27.536  27.590  27.277  27.491   2707600        0.0           0.0   \n",
      "2017-01-09  27.554  27.777  27.179  27.411   3086100        0.0           0.0   \n",
      "...            ...     ...     ...     ...       ...        ...           ...   \n",
      "2022-12-23  43.016  43.331  42.711  43.045   1818200        0.0           0.0   \n",
      "2022-12-27  43.436  43.484  42.377  42.530   2085100        0.0           0.0   \n",
      "2022-12-28  42.635  42.635  41.309  41.424   3678800        0.0           0.0   \n",
      "2022-12-29  41.433  41.863  41.176  41.395   4581300        0.0           0.0   \n",
      "2022-12-30  41.205  41.853  41.119  41.834   3684000        0.0           0.0   \n",
      "\n",
      "            log_of_return Volume_Class  \n",
      "Date                                    \n",
      "2017-01-03            NaN          Low  \n",
      "2017-01-04       0.042414         High  \n",
      "2017-01-05       0.001962       Medium  \n",
      "2017-01-06      -0.002289          Low  \n",
      "2017-01-09      -0.002914          Low  \n",
      "...                   ...          ...  \n",
      "2022-12-23       0.009125          Low  \n",
      "2022-12-27      -0.012036          Low  \n",
      "2022-12-28      -0.026349          Low  \n",
      "2022-12-29      -0.000700       Medium  \n",
      "2022-12-30       0.010549          Low  \n",
      "\n",
      "[1510 rows x 9 columns], 'UPS':                Open     High      Low    Close   Volume  Dividends  \\\n",
      "Date                                                                 \n",
      "2017-01-03   88.218   88.638   87.546   87.882  2390700        0.0   \n",
      "2017-01-04   88.050   88.470   87.790   87.905  1830800        0.0   \n",
      "2017-01-05   87.821   88.569   87.706   87.951  1856200        0.0   \n",
      "2017-01-06   87.821   88.325   87.454   88.126  1767000        0.0   \n",
      "2017-01-09   87.821   87.966   87.439   87.645  1965200        0.0   \n",
      "...             ...      ...      ...      ...      ...        ...   \n",
      "2022-12-23  161.407  162.572  159.792  162.407  1897600        0.0   \n",
      "2022-12-27  162.480  163.150  161.131  162.333  1294200        0.0   \n",
      "2022-12-28  162.398  162.829  159.067  159.287  1455900        0.0   \n",
      "2022-12-29  160.370  161.856  160.030  161.251  1369200        0.0   \n",
      "2022-12-30  159.884  160.425  157.709  159.498  1670900        0.0   \n",
      "\n",
      "            Stock Splits  log_of_return Volume_Class  \n",
      "Date                                                  \n",
      "2017-01-03           0.0            NaN          Low  \n",
      "2017-01-04           0.0       0.000262          Low  \n",
      "2017-01-05           0.0       0.000523          Low  \n",
      "2017-01-06           0.0       0.001988          Low  \n",
      "2017-01-09           0.0      -0.005473          Low  \n",
      "...                  ...            ...          ...  \n",
      "2022-12-23           0.0       0.007944          Low  \n",
      "2022-12-27           0.0      -0.000456          Low  \n",
      "2022-12-28           0.0      -0.018942          Low  \n",
      "2022-12-29           0.0       0.012255          Low  \n",
      "2022-12-30           0.0      -0.010931          Low  \n",
      "\n",
      "[1510 rows x 9 columns], 'SEDG':               Open     High      Low   Close   Volume  Dividends  \\\n",
      "Date                                                               \n",
      "2017-01-03   12.55   13.200   12.550   13.20  1123600        0.0   \n",
      "2017-01-04   13.30   14.450   13.300   14.40  1363300        0.0   \n",
      "2017-01-05   14.30   14.575   13.775   13.80   647700        0.0   \n",
      "2017-01-06   13.90   14.000   13.600   13.75   537300        0.0   \n",
      "2017-01-09   13.70   13.700   13.150   13.50   733400        0.0   \n",
      "...            ...      ...      ...     ...      ...        ...   \n",
      "2022-12-23  312.31  312.310  304.240  310.15   413700        0.0   \n",
      "2022-12-27  307.32  307.520  291.201  293.04   724300        0.0   \n",
      "2022-12-28  291.19  291.190  271.100  275.84  1471500        0.0   \n",
      "2022-12-29  281.37  289.970  278.120  280.66   718400        0.0   \n",
      "2022-12-30  276.16  283.590  273.670  283.27   485700        0.0   \n",
      "\n",
      "            Stock Splits  log_of_return Volume_Class  \n",
      "Date                                                  \n",
      "2017-01-03           0.0            NaN         High  \n",
      "2017-01-04           0.0       0.087011         High  \n",
      "2017-01-05           0.0      -0.042560          Low  \n",
      "2017-01-06           0.0      -0.003630          Low  \n",
      "2017-01-09           0.0      -0.018349       Medium  \n",
      "...                  ...            ...          ...  \n",
      "2022-12-23           0.0      -0.004215          Low  \n",
      "2022-12-27           0.0      -0.056747       Medium  \n",
      "2022-12-28           0.0      -0.060488         High  \n",
      "2022-12-29           0.0       0.017323       Medium  \n",
      "2022-12-30           0.0       0.009257          Low  \n",
      "\n",
      "[1510 rows x 9 columns], 'WMT':               Open    High     Low   Close    Volume  Dividends  Stock Splits  \\\n",
      "Date                                                                            \n",
      "2017-01-03  20.029  20.029  19.684  19.861  31419600        0.0           0.0   \n",
      "2017-01-04  19.861  20.142  19.844  19.977  23754000        0.0           0.0   \n",
      "2017-01-05  19.794  20.055  19.705  20.020  21297600        0.0           0.0   \n",
      "2017-01-06  19.789  19.815  19.673  19.745  28473300        0.0           0.0   \n",
      "2017-01-09  19.765  19.901  19.763  19.875  26055600        0.0           0.0   \n",
      "...            ...     ...     ...     ...       ...        ...           ...   \n",
      "2022-12-23  46.513  46.757  46.263  46.748   9547500        0.0           0.0   \n",
      "2022-12-27  46.835  46.969  46.559  46.761  10044600        0.0           0.0   \n",
      "2022-12-28  46.650  46.715  45.818  45.941  15246300        0.0           0.0   \n",
      "2022-12-29  46.218  46.504  46.091  46.221   9171900        0.0           0.0   \n",
      "2022-12-30  46.029  46.169  45.785  46.104  11505900        0.0           0.0   \n",
      "\n",
      "            log_of_return Volume_Class  \n",
      "Date                                    \n",
      "2017-01-03            NaN         High  \n",
      "2017-01-04       0.005824       Medium  \n",
      "2017-01-05       0.002150       Medium  \n",
      "2017-01-06      -0.013831         High  \n",
      "2017-01-09       0.006562         High  \n",
      "...                   ...          ...  \n",
      "2022-12-23       0.002034          Low  \n",
      "2022-12-27       0.000278          Low  \n",
      "2022-12-28      -0.017692          Low  \n",
      "2022-12-29       0.006076          Low  \n",
      "2022-12-30      -0.002535          Low  \n",
      "\n",
      "[1510 rows x 9 columns]}\n"
     ]
    }
   ],
   "source": [
    "# question7\n",
    "for ticker, df in data.items():\n",
    "    df['Volume_Class'] = pd.qcut(df['Volume'], 3, labels=[\"Low\", \"Medium\", \"High\"])\n",
    "print(data)"
   ]
  },
  {
   "cell_type": "code",
   "execution_count": null,
   "id": "2c02a2c9-6cba-4e2e-80a4-7601b12b51d4",
   "metadata": {},
   "outputs": [],
   "source": []
  }
 ],
 "metadata": {
  "kernelspec": {
   "display_name": "Python 3 (ipykernel)",
   "language": "python",
   "name": "python3"
  },
  "language_info": {
   "codemirror_mode": {
    "name": "ipython",
    "version": 3
   },
   "file_extension": ".py",
   "mimetype": "text/x-python",
   "name": "python",
   "nbconvert_exporter": "python",
   "pygments_lexer": "ipython3",
   "version": "3.12.4"
  }
 },
 "nbformat": 4,
 "nbformat_minor": 5
}
